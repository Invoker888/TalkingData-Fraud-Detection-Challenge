{
 "cells": [
  {
   "cell_type": "code",
   "execution_count": 1,
   "metadata": {},
   "outputs": [
    {
     "name": "stdout",
     "output_type": "stream",
     "text": [
      "<class 'pandas.core.frame.DataFrame'>\n",
      "Int64Index: 122070801 entries, 0 to 122070800\n",
      "Data columns (total 6 columns):\n",
      "B0            float32\n",
      "nextClick6    float32\n",
      "B1            float32\n",
      "B2            float32\n",
      "B3            float32\n",
      "B4            float32\n",
      "dtypes: float32(6)\n",
      "memory usage: 3.6 GB\n",
      "<class 'pandas.core.frame.DataFrame'>\n",
      "Int64Index: 62833089 entries, 122070801 to 184903889\n",
      "Data columns (total 6 columns):\n",
      "B0            float32\n",
      "nextClick6    float32\n",
      "B1            float32\n",
      "B2            float32\n",
      "B3            float32\n",
      "B4            float32\n",
      "dtypes: float32(6)\n",
      "memory usage: 1.9 GB\n",
      "<class 'pandas.core.frame.DataFrame'>\n",
      "Int64Index: 18790469 entries, 206194766 to 239488148\n",
      "Data columns (total 6 columns):\n",
      "B0            uint32\n",
      "nextClick6    float32\n",
      "B1            uint32\n",
      "B2            uint32\n",
      "B3            uint32\n",
      "B4            uint32\n",
      "dtypes: float32(1), uint32(5)\n",
      "memory usage: 573.4 MB\n"
     ]
    }
   ],
   "source": [
    "import pandas as pd\n",
    "trainadd = pd.read_pickle('train_df_feature3.pkl')\n",
    "valadd = pd.read_pickle('val_df_feature3.pkl')\n",
    "testadd = pd.read_pickle('test_df_feature3.pkl')\n",
    "\n",
    "# trainadd.drop(columns=['click_id','hour'],inplace=True)\n",
    "# valadd.drop(columns=['click_id','hour'],inplace=True)\n",
    "# testadd.drop(columns=['click_id','hour'],inplace=True)\n",
    "\n",
    "trainadd.info()\n",
    "valadd.info()\n",
    "testadd.info()"
   ]
  },
  {
   "cell_type": "code",
   "execution_count": 2,
   "metadata": {},
   "outputs": [
    {
     "data": {
      "text/plain": [
       "Index(['app', 'channel', 'device', 'is_attributed', 'os', 'hour', 'X0', 'X2',\n",
       "       'X3', 'X4', 'X5', 'X6', 'X8', 'X1', 'A0', 'A1', 'A2', 'ip_tcount',\n",
       "       'ip_app_count', 'ip_app_os_count', 'ip_tchan_count', 'ip_app_os_var',\n",
       "       'ip_app_channel_var_day', 'ip_app_channel_mean_hour', 'nextClick',\n",
       "       'nextClick2', 'nextClick3', 'nextClick4', 'nextClick5'],\n",
       "      dtype='object')"
      ]
     },
     "execution_count": 2,
     "metadata": {},
     "output_type": "execute_result"
    }
   ],
   "source": [
    "val = pd.read_pickle('val_df_V16.pkl')\n",
    "test = pd.read_pickle('test_df_V16.pkl')\n",
    "\n",
    "# delete 'X7'\n",
    "# train.drop(columns=['X7'],inplace=True)\n",
    "# val.drop(columns=['X7'],inplace=True)\n",
    "# test.drop(columns=['X7'],inplace=True)\n",
    "                   \n",
    "val.drop(columns=['prevClick','prevClick2','prevClick3','prevClick4','prevClick5'],inplace=True)\n",
    "test.drop(columns=['prevClick','prevClick2','prevClick3','prevClick4','prevClick5'],inplace=True)\n",
    "val.columns"
   ]
  },
  {
   "cell_type": "code",
   "execution_count": 4,
   "metadata": {
    "collapsed": true
   },
   "outputs": [],
   "source": [
    "val.drop(columns=['nextClick3'],inplace=True)\n",
    "test.drop(columns=['nextClick3'],inplace=True)"
   ]
  },
  {
   "cell_type": "code",
   "execution_count": 5,
   "metadata": {},
   "outputs": [
    {
     "data": {
      "text/plain": [
       "7"
      ]
     },
     "execution_count": 5,
     "metadata": {},
     "output_type": "execute_result"
    }
   ],
   "source": [
    "# del newtest\n",
    "import gc\n",
    "gc.collect()\n",
    "# gc.collect()返回此次垃圾回收的unreachable(不可达)对象个数"
   ]
  },
  {
   "cell_type": "code",
   "execution_count": 8,
   "metadata": {
    "collapsed": true
   },
   "outputs": [],
   "source": [
    "# test.reset_index(drop=True,inplace=True)\n",
    "# testadd.reset_index(drop=True,inplace=True)\n",
    "# concat 在此之后应该也行"
   ]
  },
  {
   "cell_type": "code",
   "execution_count": 9,
   "metadata": {},
   "outputs": [
    {
     "name": "stdout",
     "output_type": "stream",
     "text": [
      "<class 'pandas.core.frame.DataFrame'>\n",
      "RangeIndex: 18790469 entries, 0 to 18790468\n",
      "Data columns (total 33 columns):\n",
      "app                         uint16\n",
      "channel                     uint16\n",
      "device                      uint16\n",
      "os                          uint16\n",
      "hour                        uint8\n",
      "X0                          uint8\n",
      "X2                          uint8\n",
      "X3                          uint16\n",
      "X4                          uint8\n",
      "X5                          uint16\n",
      "X6                          uint8\n",
      "X8                          uint8\n",
      "X1                          uint32\n",
      "A0                          uint32\n",
      "A1                          uint32\n",
      "A2                          uint32\n",
      "ip_tcount                   uint16\n",
      "ip_app_count                uint32\n",
      "ip_app_os_count             uint16\n",
      "ip_tchan_count              float32\n",
      "ip_app_os_var               float32\n",
      "ip_app_channel_var_day      float32\n",
      "ip_app_channel_mean_hour    float32\n",
      "nextClick                   float32\n",
      "nextClick2                  float32\n",
      "nextClick4                  float32\n",
      "nextClick5                  float32\n",
      "B0                          uint32\n",
      "nextClick6                  float32\n",
      "B1                          uint32\n",
      "B2                          uint32\n",
      "B3                          uint32\n",
      "B4                          uint32\n",
      "dtypes: float32(9), uint16(8), uint32(10), uint8(6)\n",
      "memory usage: 1.7 GB\n"
     ]
    },
    {
     "data": {
      "text/html": [
       "<div>\n",
       "<style scoped>\n",
       "    .dataframe tbody tr th:only-of-type {\n",
       "        vertical-align: middle;\n",
       "    }\n",
       "\n",
       "    .dataframe tbody tr th {\n",
       "        vertical-align: top;\n",
       "    }\n",
       "\n",
       "    .dataframe thead th {\n",
       "        text-align: right;\n",
       "    }\n",
       "</style>\n",
       "<table border=\"1\" class=\"dataframe\">\n",
       "  <thead>\n",
       "    <tr style=\"text-align: right;\">\n",
       "      <th></th>\n",
       "      <th>app</th>\n",
       "      <th>channel</th>\n",
       "      <th>device</th>\n",
       "      <th>os</th>\n",
       "      <th>hour</th>\n",
       "      <th>X0</th>\n",
       "      <th>X2</th>\n",
       "      <th>X3</th>\n",
       "      <th>X4</th>\n",
       "      <th>X5</th>\n",
       "      <th>...</th>\n",
       "      <th>nextClick</th>\n",
       "      <th>nextClick2</th>\n",
       "      <th>nextClick4</th>\n",
       "      <th>nextClick5</th>\n",
       "      <th>B0</th>\n",
       "      <th>nextClick6</th>\n",
       "      <th>B1</th>\n",
       "      <th>B2</th>\n",
       "      <th>B3</th>\n",
       "      <th>B4</th>\n",
       "    </tr>\n",
       "  </thead>\n",
       "  <tbody>\n",
       "    <tr>\n",
       "      <th>0</th>\n",
       "      <td>9</td>\n",
       "      <td>466</td>\n",
       "      <td>1</td>\n",
       "      <td>3</td>\n",
       "      <td>12</td>\n",
       "      <td>132</td>\n",
       "      <td>24</td>\n",
       "      <td>86</td>\n",
       "      <td>46</td>\n",
       "      <td>35</td>\n",
       "      <td>...</td>\n",
       "      <td>399.0</td>\n",
       "      <td>18377.0</td>\n",
       "      <td>0.0</td>\n",
       "      <td>10.0</td>\n",
       "      <td>132</td>\n",
       "      <td>18377.0</td>\n",
       "      <td>3454232</td>\n",
       "      <td>200849</td>\n",
       "      <td>385195</td>\n",
       "      <td>56168</td>\n",
       "    </tr>\n",
       "    <tr>\n",
       "      <th>1</th>\n",
       "      <td>21</td>\n",
       "      <td>128</td>\n",
       "      <td>1</td>\n",
       "      <td>19</td>\n",
       "      <td>12</td>\n",
       "      <td>129</td>\n",
       "      <td>24</td>\n",
       "      <td>70</td>\n",
       "      <td>35</td>\n",
       "      <td>14</td>\n",
       "      <td>...</td>\n",
       "      <td>88.0</td>\n",
       "      <td>88.0</td>\n",
       "      <td>0.0</td>\n",
       "      <td>66.0</td>\n",
       "      <td>129</td>\n",
       "      <td>88.0</td>\n",
       "      <td>3358985</td>\n",
       "      <td>206447</td>\n",
       "      <td>1440748</td>\n",
       "      <td>895768</td>\n",
       "    </tr>\n",
       "    <tr>\n",
       "      <th>2</th>\n",
       "      <td>9</td>\n",
       "      <td>107</td>\n",
       "      <td>1</td>\n",
       "      <td>3</td>\n",
       "      <td>12</td>\n",
       "      <td>99</td>\n",
       "      <td>20</td>\n",
       "      <td>35</td>\n",
       "      <td>31</td>\n",
       "      <td>6</td>\n",
       "      <td>...</td>\n",
       "      <td>NaN</td>\n",
       "      <td>NaN</td>\n",
       "      <td>0.0</td>\n",
       "      <td>6.0</td>\n",
       "      <td>99</td>\n",
       "      <td>NaN</td>\n",
       "      <td>1528934</td>\n",
       "      <td>70333</td>\n",
       "      <td>385195</td>\n",
       "      <td>34109</td>\n",
       "    </tr>\n",
       "    <tr>\n",
       "      <th>3</th>\n",
       "      <td>15</td>\n",
       "      <td>111</td>\n",
       "      <td>1</td>\n",
       "      <td>13</td>\n",
       "      <td>12</td>\n",
       "      <td>134</td>\n",
       "      <td>24</td>\n",
       "      <td>67</td>\n",
       "      <td>34</td>\n",
       "      <td>20</td>\n",
       "      <td>...</td>\n",
       "      <td>425.0</td>\n",
       "      <td>3181.0</td>\n",
       "      <td>1.0</td>\n",
       "      <td>5.0</td>\n",
       "      <td>134</td>\n",
       "      <td>3181.0</td>\n",
       "      <td>781664</td>\n",
       "      <td>54909</td>\n",
       "      <td>4211102</td>\n",
       "      <td>168399</td>\n",
       "    </tr>\n",
       "    <tr>\n",
       "      <th>4</th>\n",
       "      <td>12</td>\n",
       "      <td>328</td>\n",
       "      <td>1</td>\n",
       "      <td>13</td>\n",
       "      <td>12</td>\n",
       "      <td>84</td>\n",
       "      <td>19</td>\n",
       "      <td>32</td>\n",
       "      <td>25</td>\n",
       "      <td>5</td>\n",
       "      <td>...</td>\n",
       "      <td>1208.0</td>\n",
       "      <td>1208.0</td>\n",
       "      <td>0.0</td>\n",
       "      <td>4.0</td>\n",
       "      <td>84</td>\n",
       "      <td>1208.0</td>\n",
       "      <td>2410253</td>\n",
       "      <td>153182</td>\n",
       "      <td>7059426</td>\n",
       "      <td>546789</td>\n",
       "    </tr>\n",
       "  </tbody>\n",
       "</table>\n",
       "<p>5 rows × 33 columns</p>\n",
       "</div>"
      ],
      "text/plain": [
       "   app  channel  device  os  hour   X0  X2  X3  X4  X5   ...    nextClick  \\\n",
       "0    9      466       1   3    12  132  24  86  46  35   ...        399.0   \n",
       "1   21      128       1  19    12  129  24  70  35  14   ...         88.0   \n",
       "2    9      107       1   3    12   99  20  35  31   6   ...          NaN   \n",
       "3   15      111       1  13    12  134  24  67  34  20   ...        425.0   \n",
       "4   12      328       1  13    12   84  19  32  25   5   ...       1208.0   \n",
       "\n",
       "   nextClick2  nextClick4  nextClick5   B0  nextClick6       B1      B2  \\\n",
       "0     18377.0         0.0        10.0  132     18377.0  3454232  200849   \n",
       "1        88.0         0.0        66.0  129        88.0  3358985  206447   \n",
       "2         NaN         0.0         6.0   99         NaN  1528934   70333   \n",
       "3      3181.0         1.0         5.0  134      3181.0   781664   54909   \n",
       "4      1208.0         0.0         4.0   84      1208.0  2410253  153182   \n",
       "\n",
       "        B3      B4  \n",
       "0   385195   56168  \n",
       "1  1440748  895768  \n",
       "2   385195   34109  \n",
       "3  4211102  168399  \n",
       "4  7059426  546789  \n",
       "\n",
       "[5 rows x 33 columns]"
      ]
     },
     "execution_count": 9,
     "metadata": {},
     "output_type": "execute_result"
    }
   ],
   "source": [
    "# 速度快，高效\n",
    "for i in testadd.columns:\n",
    "    test[i] = testadd[i].values\n",
    "test.info()\n",
    "test.head()"
   ]
  },
  {
   "cell_type": "code",
   "execution_count": 6,
   "metadata": {},
   "outputs": [
    {
     "data": {
      "text/plain": [
       "Index(['app', 'channel', 'device', 'is_attributed', 'os', 'hour', 'X0', 'X2',\n",
       "       'X3', 'X4', 'X5', 'X6', 'X8', 'X1', 'A0', 'A1', 'A2', 'ip_tcount',\n",
       "       'ip_app_count', 'ip_app_os_count', 'ip_tchan_count', 'ip_app_os_var',\n",
       "       'ip_app_channel_var_day', 'ip_app_channel_mean_hour', 'nextClick',\n",
       "       'nextClick2', 'nextClick4', 'nextClick5'],\n",
       "      dtype='object')"
      ]
     },
     "execution_count": 6,
     "metadata": {},
     "output_type": "execute_result"
    }
   ],
   "source": [
    "val.columns"
   ]
  },
  {
   "cell_type": "code",
   "execution_count": 8,
   "metadata": {
    "collapsed": true
   },
   "outputs": [],
   "source": [
    "for i in valadd.columns:\n",
    "    val[i] = valadd[i].values"
   ]
  },
  {
   "cell_type": "code",
   "execution_count": 7,
   "metadata": {},
   "outputs": [],
   "source": [
    "# val.info()"
   ]
  },
  {
   "cell_type": "code",
   "execution_count": 10,
   "metadata": {
    "collapsed": true
   },
   "outputs": [],
   "source": [
    "# train.to_pickle('./train_df_V14.pkl')\n",
    "val.to_pickle('./val_df_V21.pkl')\n",
    "test.to_pickle('./test_df_V21.pkl')"
   ]
  },
  {
   "cell_type": "code",
   "execution_count": 11,
   "metadata": {},
   "outputs": [
    {
     "data": {
      "text/plain": [
       "430"
      ]
     },
     "execution_count": 11,
     "metadata": {},
     "output_type": "execute_result"
    }
   ],
   "source": [
    "del val,valadd,test,testadd\n",
    "gc.collect()"
   ]
  },
  {
   "cell_type": "code",
   "execution_count": 12,
   "metadata": {},
   "outputs": [
    {
     "data": {
      "text/plain": [
       "85"
      ]
     },
     "execution_count": 12,
     "metadata": {},
     "output_type": "execute_result"
    }
   ],
   "source": [
    "train = pd.read_pickle('train_df_V16.pkl')\n",
    "train.drop(columns=['prevClick','prevClick2','prevClick3','prevClick4','prevClick5','nextClick3'],inplace=True)\n",
    "for i in trainadd.columns:\n",
    "    train[i] = trainadd[i].values\n",
    "del trainadd\n",
    "gc.collect()"
   ]
  },
  {
   "cell_type": "code",
   "execution_count": 13,
   "metadata": {
    "collapsed": true
   },
   "outputs": [],
   "source": [
    "train.to_pickle('./train_df_V21.pkl')"
   ]
  }
 ],
 "metadata": {
  "kernelspec": {
   "display_name": "Python 3",
   "language": "python",
   "name": "python3"
  },
  "language_info": {
   "codemirror_mode": {
    "name": "ipython",
    "version": 3
   },
   "file_extension": ".py",
   "mimetype": "text/x-python",
   "name": "python",
   "nbconvert_exporter": "python",
   "pygments_lexer": "ipython3",
   "version": "3.6.1"
  }
 },
 "nbformat": 4,
 "nbformat_minor": 2
}
